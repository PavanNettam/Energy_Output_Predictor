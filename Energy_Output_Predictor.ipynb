{
  "nbformat": 4,
  "nbformat_minor": 0,
  "metadata": {
    "colab": {
      "name": "Copy of artificial_neural_network.ipynb",
      "provenance": [],
      "collapsed_sections": []
    },
    "kernelspec": {
      "name": "python3",
      "display_name": "Python 3"
    }
  },
  "cells": [
    {
      "cell_type": "markdown",
      "metadata": {
        "id": "3cbb7fRy-eyr"
      },
      "source": [
        "# Artificial Neural Network"
      ]
    },
    {
      "cell_type": "markdown",
      "metadata": {
        "id": "8sNDnxE2-pwE"
      },
      "source": [
        "### Importing the libraries"
      ]
    },
    {
      "cell_type": "code",
      "source": [
        "import numpy as np\n",
        "import pandas as pd\n",
        "import matplotlib.pyplot as plt\n",
        "import tensorflow as tf"
      ],
      "metadata": {
        "id": "UZlY8955jhVM"
      },
      "execution_count": 93,
      "outputs": []
    },
    {
      "cell_type": "code",
      "source": [
        "tf.__version__"
      ],
      "metadata": {
        "colab": {
          "base_uri": "https://localhost:8080/",
          "height": 36
        },
        "id": "gkeFFigIjty-",
        "outputId": "398dc96f-c75e-47e0-81cc-6cfdb4df89eb"
      },
      "execution_count": 94,
      "outputs": [
        {
          "output_type": "execute_result",
          "data": {
            "application/vnd.google.colaboratory.intrinsic+json": {
              "type": "string"
            },
            "text/plain": [
              "'2.7.0'"
            ]
          },
          "metadata": {},
          "execution_count": 94
        }
      ]
    },
    {
      "cell_type": "markdown",
      "metadata": {
        "id": "AG3FQEch-yuA"
      },
      "source": [
        "## Part 1 - Data Preprocessing"
      ]
    },
    {
      "cell_type": "markdown",
      "metadata": {
        "id": "-4zq8Mza_D9O"
      },
      "source": [
        "### Importing the dataset"
      ]
    },
    {
      "cell_type": "code",
      "source": [
        "dataset = pd.read_excel('Folds5x2_pp.xlsx')"
      ],
      "metadata": {
        "id": "L7aSIbzzkKGT"
      },
      "execution_count": 95,
      "outputs": []
    },
    {
      "cell_type": "code",
      "source": [
        "X = dataset.iloc[ : , :-1].values\n",
        "y = dataset.iloc[ : ,-1].values"
      ],
      "metadata": {
        "id": "HaOTWawjkmcS"
      },
      "execution_count": 96,
      "outputs": []
    },
    {
      "cell_type": "code",
      "source": [
        "print(X)"
      ],
      "metadata": {
        "colab": {
          "base_uri": "https://localhost:8080/"
        },
        "id": "5CQE_zs3lFS5",
        "outputId": "49103b2c-5d41-4149-cb16-009e0e73612f"
      },
      "execution_count": 97,
      "outputs": [
        {
          "output_type": "stream",
          "name": "stdout",
          "text": [
            "[[  14.96   41.76 1024.07   73.17]\n",
            " [  25.18   62.96 1020.04   59.08]\n",
            " [   5.11   39.4  1012.16   92.14]\n",
            " ...\n",
            " [  31.32   74.33 1012.92   36.48]\n",
            " [  24.48   69.45 1013.86   62.39]\n",
            " [  21.6    62.52 1017.23   67.87]]\n"
          ]
        }
      ]
    },
    {
      "cell_type": "code",
      "source": [
        "print(y)"
      ],
      "metadata": {
        "colab": {
          "base_uri": "https://localhost:8080/"
        },
        "id": "C4QzmSXklHNL",
        "outputId": "cde45a5d-c9b5-41bc-a362-1a5db9757ad9"
      },
      "execution_count": 98,
      "outputs": [
        {
          "output_type": "stream",
          "name": "stdout",
          "text": [
            "[463.26 444.37 488.56 ... 429.57 435.74 453.28]\n"
          ]
        }
      ]
    },
    {
      "cell_type": "markdown",
      "metadata": {
        "id": "VC6omXel_Up0"
      },
      "source": [
        "### Splitting the dataset into the Training set and Test set"
      ]
    },
    {
      "cell_type": "code",
      "source": [
        "from sklearn.model_selection import train_test_split\n",
        "X_train,X_test,y_train,y_test = train_test_split(X,y,test_size=0.2,random_state=0)"
      ],
      "metadata": {
        "id": "kTOENcp4lJyC"
      },
      "execution_count": 99,
      "outputs": []
    },
    {
      "cell_type": "markdown",
      "source": [
        "###Feature Scaling"
      ],
      "metadata": {
        "id": "852ESmKDy6fj"
      }
    },
    {
      "cell_type": "code",
      "source": [
        "from sklearn.preprocessing import StandardScaler\n",
        "sc1 = StandardScaler()\n",
        "sc2 = StandardScaler()\n",
        "X_train = sc1.fit_transform(X_train)\n",
        "X_test = sc1.transform(X_test)\n",
        "y_train = np.reshape(y_train, (len(y_train), 1))\n",
        "y_test = np.reshape(y_test, (len(y_test), 1))\n",
        "y_train = sc2.fit_transform(y_train)\n",
        "y_test = sc2.transform(y_test)"
      ],
      "metadata": {
        "id": "gTzpReejtza9"
      },
      "execution_count": 100,
      "outputs": []
    },
    {
      "cell_type": "markdown",
      "metadata": {
        "id": "_mSLlAT9_eyI"
      },
      "source": [
        "## Part 2 - Building the ANN"
      ]
    },
    {
      "cell_type": "markdown",
      "metadata": {
        "id": "CsBULd_f_wLY"
      },
      "source": [
        "### Initializing the ANN"
      ]
    },
    {
      "cell_type": "code",
      "source": [
        "ann = tf.keras.models.Sequential()"
      ],
      "metadata": {
        "id": "ZU7Rw4iblwIS"
      },
      "execution_count": 101,
      "outputs": []
    },
    {
      "cell_type": "markdown",
      "metadata": {
        "id": "iitAFJS_ABUn"
      },
      "source": [
        "### Adding the input layer and the first hidden layer"
      ]
    },
    {
      "cell_type": "code",
      "source": [
        "ann.add(tf.keras.layers.Dense(units=6,activation='relu'))"
      ],
      "metadata": {
        "id": "CELtiaXXl3cJ"
      },
      "execution_count": 102,
      "outputs": []
    },
    {
      "cell_type": "markdown",
      "metadata": {
        "id": "-lb4kK_wAKbs"
      },
      "source": [
        "### Adding the second hidden layer"
      ]
    },
    {
      "cell_type": "code",
      "source": [
        "ann.add(tf.keras.layers.Dense(units=6,activation='relu'))"
      ],
      "metadata": {
        "id": "TuDKcG6xmDoo"
      },
      "execution_count": 103,
      "outputs": []
    },
    {
      "cell_type": "markdown",
      "metadata": {
        "id": "jwMOmKb3AdBY"
      },
      "source": [
        "### Adding the output layer"
      ]
    },
    {
      "cell_type": "code",
      "source": [
        "ann.add(tf.keras.layers.Dense(units=1))"
      ],
      "metadata": {
        "id": "Yokp8SScmLDX"
      },
      "execution_count": 104,
      "outputs": []
    },
    {
      "cell_type": "markdown",
      "metadata": {
        "id": "fq7e4fF6A1yy"
      },
      "source": [
        "## Part 3 - Training the ANN"
      ]
    },
    {
      "cell_type": "markdown",
      "metadata": {
        "id": "qDeylAs2An25"
      },
      "source": [
        "### Compiling the ANN"
      ]
    },
    {
      "cell_type": "code",
      "source": [
        "ann.compile(optimizer='adam',loss='mean_squared_error')"
      ],
      "metadata": {
        "id": "UmvyF8SrmPbt"
      },
      "execution_count": 105,
      "outputs": []
    },
    {
      "cell_type": "markdown",
      "metadata": {
        "id": "YjVuiybYOo7r"
      },
      "source": [
        "### Training the ANN model on the Training set"
      ]
    },
    {
      "cell_type": "code",
      "source": [
        "ann.fit(X_train,y_train,batch_size=32,epochs=100)"
      ],
      "metadata": {
        "colab": {
          "base_uri": "https://localhost:8080/"
        },
        "id": "dcTPK2w_mfMb",
        "outputId": "4827f9c8-25a5-426a-f628-fd76e6b90724"
      },
      "execution_count": 106,
      "outputs": [
        {
          "output_type": "stream",
          "name": "stdout",
          "text": [
            "Epoch 1/100\n",
            "240/240 [==============================] - 1s 1ms/step - loss: 1.2390\n",
            "Epoch 2/100\n",
            "240/240 [==============================] - 0s 1ms/step - loss: 0.3659\n",
            "Epoch 3/100\n",
            "240/240 [==============================] - 0s 1ms/step - loss: 0.0890\n",
            "Epoch 4/100\n",
            "240/240 [==============================] - 0s 1ms/step - loss: 0.0793\n",
            "Epoch 5/100\n",
            "240/240 [==============================] - 0s 1ms/step - loss: 0.0756\n",
            "Epoch 6/100\n",
            "240/240 [==============================] - 0s 1ms/step - loss: 0.0729\n",
            "Epoch 7/100\n",
            "240/240 [==============================] - 0s 1ms/step - loss: 0.0706\n",
            "Epoch 8/100\n",
            "240/240 [==============================] - 0s 1ms/step - loss: 0.0690\n",
            "Epoch 9/100\n",
            "240/240 [==============================] - 0s 1ms/step - loss: 0.0675\n",
            "Epoch 10/100\n",
            "240/240 [==============================] - 0s 1ms/step - loss: 0.0663\n",
            "Epoch 11/100\n",
            "240/240 [==============================] - 0s 1ms/step - loss: 0.0652\n",
            "Epoch 12/100\n",
            "240/240 [==============================] - 0s 1ms/step - loss: 0.0645\n",
            "Epoch 13/100\n",
            "240/240 [==============================] - 0s 1ms/step - loss: 0.0638\n",
            "Epoch 14/100\n",
            "240/240 [==============================] - 0s 1ms/step - loss: 0.0635\n",
            "Epoch 15/100\n",
            "240/240 [==============================] - 0s 1ms/step - loss: 0.0631\n",
            "Epoch 16/100\n",
            "240/240 [==============================] - 0s 1ms/step - loss: 0.0628\n",
            "Epoch 17/100\n",
            "240/240 [==============================] - 0s 1ms/step - loss: 0.0626\n",
            "Epoch 18/100\n",
            "240/240 [==============================] - 0s 1ms/step - loss: 0.0623\n",
            "Epoch 19/100\n",
            "240/240 [==============================] - 0s 1ms/step - loss: 0.0621\n",
            "Epoch 20/100\n",
            "240/240 [==============================] - 0s 1ms/step - loss: 0.0619\n",
            "Epoch 21/100\n",
            "240/240 [==============================] - 0s 1ms/step - loss: 0.0618\n",
            "Epoch 22/100\n",
            "240/240 [==============================] - 0s 1ms/step - loss: 0.0616\n",
            "Epoch 23/100\n",
            "240/240 [==============================] - 0s 1ms/step - loss: 0.0617\n",
            "Epoch 24/100\n",
            "240/240 [==============================] - 0s 1ms/step - loss: 0.0615\n",
            "Epoch 25/100\n",
            "240/240 [==============================] - 0s 1ms/step - loss: 0.0614\n",
            "Epoch 26/100\n",
            "240/240 [==============================] - 0s 1ms/step - loss: 0.0614\n",
            "Epoch 27/100\n",
            "240/240 [==============================] - 0s 1ms/step - loss: 0.0614\n",
            "Epoch 28/100\n",
            "240/240 [==============================] - 0s 1ms/step - loss: 0.0614\n",
            "Epoch 29/100\n",
            "240/240 [==============================] - 0s 1ms/step - loss: 0.0612\n",
            "Epoch 30/100\n",
            "240/240 [==============================] - 0s 1ms/step - loss: 0.0612\n",
            "Epoch 31/100\n",
            "240/240 [==============================] - 0s 1ms/step - loss: 0.0613\n",
            "Epoch 32/100\n",
            "240/240 [==============================] - 0s 1ms/step - loss: 0.0611\n",
            "Epoch 33/100\n",
            "240/240 [==============================] - 0s 1ms/step - loss: 0.0612\n",
            "Epoch 34/100\n",
            "240/240 [==============================] - 0s 1ms/step - loss: 0.0611\n",
            "Epoch 35/100\n",
            "240/240 [==============================] - 0s 1ms/step - loss: 0.0610\n",
            "Epoch 36/100\n",
            "240/240 [==============================] - 0s 1ms/step - loss: 0.0612\n",
            "Epoch 37/100\n",
            "240/240 [==============================] - 0s 1ms/step - loss: 0.0611\n",
            "Epoch 38/100\n",
            "240/240 [==============================] - 0s 1ms/step - loss: 0.0611\n",
            "Epoch 39/100\n",
            "240/240 [==============================] - 0s 1ms/step - loss: 0.0610\n",
            "Epoch 40/100\n",
            "240/240 [==============================] - 0s 1ms/step - loss: 0.0610\n",
            "Epoch 41/100\n",
            "240/240 [==============================] - 0s 1ms/step - loss: 0.0611\n",
            "Epoch 42/100\n",
            "240/240 [==============================] - 0s 1ms/step - loss: 0.0610\n",
            "Epoch 43/100\n",
            "240/240 [==============================] - 0s 1ms/step - loss: 0.0609\n",
            "Epoch 44/100\n",
            "240/240 [==============================] - 0s 1ms/step - loss: 0.0608\n",
            "Epoch 45/100\n",
            "240/240 [==============================] - 0s 1ms/step - loss: 0.0608\n",
            "Epoch 46/100\n",
            "240/240 [==============================] - 0s 1ms/step - loss: 0.0609\n",
            "Epoch 47/100\n",
            "240/240 [==============================] - 0s 1ms/step - loss: 0.0611\n",
            "Epoch 48/100\n",
            "240/240 [==============================] - 0s 1ms/step - loss: 0.0609\n",
            "Epoch 49/100\n",
            "240/240 [==============================] - 0s 1ms/step - loss: 0.0610\n",
            "Epoch 50/100\n",
            "240/240 [==============================] - 0s 1ms/step - loss: 0.0608\n",
            "Epoch 51/100\n",
            "240/240 [==============================] - 0s 1ms/step - loss: 0.0608\n",
            "Epoch 52/100\n",
            "240/240 [==============================] - 0s 1ms/step - loss: 0.0609\n",
            "Epoch 53/100\n",
            "240/240 [==============================] - 0s 1ms/step - loss: 0.0608\n",
            "Epoch 54/100\n",
            "240/240 [==============================] - 0s 1ms/step - loss: 0.0608\n",
            "Epoch 55/100\n",
            "240/240 [==============================] - 0s 1ms/step - loss: 0.0609\n",
            "Epoch 56/100\n",
            "240/240 [==============================] - 0s 1ms/step - loss: 0.0609\n",
            "Epoch 57/100\n",
            "240/240 [==============================] - 0s 1ms/step - loss: 0.0608\n",
            "Epoch 58/100\n",
            "240/240 [==============================] - 0s 1ms/step - loss: 0.0610\n",
            "Epoch 59/100\n",
            "240/240 [==============================] - 0s 1ms/step - loss: 0.0608\n",
            "Epoch 60/100\n",
            "240/240 [==============================] - 0s 1ms/step - loss: 0.0610\n",
            "Epoch 61/100\n",
            "240/240 [==============================] - 0s 1ms/step - loss: 0.0608\n",
            "Epoch 62/100\n",
            "240/240 [==============================] - 0s 1ms/step - loss: 0.0609\n",
            "Epoch 63/100\n",
            "240/240 [==============================] - 0s 1ms/step - loss: 0.0608\n",
            "Epoch 64/100\n",
            "240/240 [==============================] - 0s 1ms/step - loss: 0.0608\n",
            "Epoch 65/100\n",
            "240/240 [==============================] - 0s 1ms/step - loss: 0.0608\n",
            "Epoch 66/100\n",
            "240/240 [==============================] - 0s 1ms/step - loss: 0.0608\n",
            "Epoch 67/100\n",
            "240/240 [==============================] - 0s 1ms/step - loss: 0.0608\n",
            "Epoch 68/100\n",
            "240/240 [==============================] - 0s 1ms/step - loss: 0.0609\n",
            "Epoch 69/100\n",
            "240/240 [==============================] - 0s 1ms/step - loss: 0.0608\n",
            "Epoch 70/100\n",
            "240/240 [==============================] - 0s 1ms/step - loss: 0.0608\n",
            "Epoch 71/100\n",
            "240/240 [==============================] - 0s 1ms/step - loss: 0.0608\n",
            "Epoch 72/100\n",
            "240/240 [==============================] - 0s 1ms/step - loss: 0.0608\n",
            "Epoch 73/100\n",
            "240/240 [==============================] - 0s 1ms/step - loss: 0.0609\n",
            "Epoch 74/100\n",
            "240/240 [==============================] - 0s 1ms/step - loss: 0.0608\n",
            "Epoch 75/100\n",
            "240/240 [==============================] - 0s 1ms/step - loss: 0.0607\n",
            "Epoch 76/100\n",
            "240/240 [==============================] - 0s 1ms/step - loss: 0.0608\n",
            "Epoch 77/100\n",
            "240/240 [==============================] - 0s 1ms/step - loss: 0.0606\n",
            "Epoch 78/100\n",
            "240/240 [==============================] - 0s 1ms/step - loss: 0.0609\n",
            "Epoch 79/100\n",
            "240/240 [==============================] - 0s 1ms/step - loss: 0.0607\n",
            "Epoch 80/100\n",
            "240/240 [==============================] - 0s 1ms/step - loss: 0.0609\n",
            "Epoch 81/100\n",
            "240/240 [==============================] - 0s 1ms/step - loss: 0.0609\n",
            "Epoch 82/100\n",
            "240/240 [==============================] - 0s 1ms/step - loss: 0.0607\n",
            "Epoch 83/100\n",
            "240/240 [==============================] - 0s 1ms/step - loss: 0.0607\n",
            "Epoch 84/100\n",
            "240/240 [==============================] - 0s 1ms/step - loss: 0.0608\n",
            "Epoch 85/100\n",
            "240/240 [==============================] - 0s 1ms/step - loss: 0.0607\n",
            "Epoch 86/100\n",
            "240/240 [==============================] - 0s 1ms/step - loss: 0.0607\n",
            "Epoch 87/100\n",
            "240/240 [==============================] - 0s 1ms/step - loss: 0.0608\n",
            "Epoch 88/100\n",
            "240/240 [==============================] - 0s 1ms/step - loss: 0.0608\n",
            "Epoch 89/100\n",
            "240/240 [==============================] - 0s 1ms/step - loss: 0.0609\n",
            "Epoch 90/100\n",
            "240/240 [==============================] - 0s 1ms/step - loss: 0.0607\n",
            "Epoch 91/100\n",
            "240/240 [==============================] - 0s 1ms/step - loss: 0.0608\n",
            "Epoch 92/100\n",
            "240/240 [==============================] - 0s 1ms/step - loss: 0.0608\n",
            "Epoch 93/100\n",
            "240/240 [==============================] - 0s 1ms/step - loss: 0.0608\n",
            "Epoch 94/100\n",
            "240/240 [==============================] - 0s 1ms/step - loss: 0.0608\n",
            "Epoch 95/100\n",
            "240/240 [==============================] - 0s 1ms/step - loss: 0.0608\n",
            "Epoch 96/100\n",
            "240/240 [==============================] - 0s 1ms/step - loss: 0.0607\n",
            "Epoch 97/100\n",
            "240/240 [==============================] - 0s 1ms/step - loss: 0.0608\n",
            "Epoch 98/100\n",
            "240/240 [==============================] - 0s 1ms/step - loss: 0.0608\n",
            "Epoch 99/100\n",
            "240/240 [==============================] - 0s 1ms/step - loss: 0.0607\n",
            "Epoch 100/100\n",
            "240/240 [==============================] - 0s 1ms/step - loss: 0.0608\n"
          ]
        },
        {
          "output_type": "execute_result",
          "data": {
            "text/plain": [
              "<keras.callbacks.History at 0x7f405b084d10>"
            ]
          },
          "metadata": {},
          "execution_count": 106
        }
      ]
    },
    {
      "cell_type": "markdown",
      "source": [
        "#Part 4 - Prediction the results"
      ],
      "metadata": {
        "id": "rTu0X0h7qGgn"
      }
    },
    {
      "cell_type": "markdown",
      "metadata": {
        "id": "0H0zKKNEBLD5"
      },
      "source": [
        "### Predicting the results of the Test set"
      ]
    },
    {
      "cell_type": "code",
      "source": [
        "y_pred = ann.predict(X_test)\n",
        "np.set_printoptions(precision=2)\n",
        "print(np.concatenate((y_pred.reshape(len(y_pred),1), y_test.reshape(len(y_test),1)),1))"
      ],
      "metadata": {
        "colab": {
          "base_uri": "https://localhost:8080/"
        },
        "id": "vuk-jeVDnm6o",
        "outputId": "b8050ea8-2b09-4ea4-d5cd-cee23110deac"
      },
      "execution_count": 107,
      "outputs": [
        {
          "output_type": "stream",
          "name": "stdout",
          "text": [
            "[[-1.27 -1.35]\n",
            " [ 0.17  0.33]\n",
            " [ 0.47  0.4 ]\n",
            " ...\n",
            " [ 0.86  1.11]\n",
            " [-0.82 -0.96]\n",
            " [ 0.43  0.53]]\n"
          ]
        }
      ]
    },
    {
      "cell_type": "markdown",
      "source": [
        "#Part 5 - Evaluating the model "
      ],
      "metadata": {
        "id": "b7eklJ9FqYdD"
      }
    },
    {
      "cell_type": "code",
      "source": [
        "from sklearn.metrics import r2_score\n",
        "r2_score(y_test,y_pred)"
      ],
      "metadata": {
        "colab": {
          "base_uri": "https://localhost:8080/"
        },
        "id": "3tsRFuuGqppn",
        "outputId": "ca95f140-9f99-4ae5-c037-1452f1aa82db"
      },
      "execution_count": 108,
      "outputs": [
        {
          "output_type": "execute_result",
          "data": {
            "text/plain": [
              "0.943900808510774"
            ]
          },
          "metadata": {},
          "execution_count": 108
        }
      ]
    }
  ]
}